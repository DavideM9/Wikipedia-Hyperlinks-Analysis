{
 "cells": [
  {
   "cell_type": "markdown",
   "metadata": {},
   "source": [
    "# Homework 5 - Visit the Wikipedia hyperlinks graph!"
   ]
  },
  {
   "cell_type": "markdown",
   "metadata": {},
   "source": [
    "In this assignment we perform an analysis of the Wikipedia Hyperlink graph. In particular, given extra information about the\n",
    "categories to which an article belongs to, we are curious to rank the articles according to some criteria."
   ]
  },
  {
   "cell_type": "markdown",
   "metadata": {},
   "source": [
    "### [RQ1] Build the graph G = (V, E), where V is the set of articles and E the hyperlinks among them, and provide its basic information:\n",
    "- If it is direct or not\n",
    "- The number of nodes\n",
    "- The number of edges\n",
    "- The average node degree. Is the graph dense?"
   ]
  },
  {
   "cell_type": "code",
   "execution_count": 11,
   "metadata": {},
   "outputs": [],
   "source": [
    "import pandas as pd\n",
    "import json\n",
    "from tqdm import tqdm\n",
    "import collections \n",
    "import networkx as nx"
   ]
  },
  {
   "cell_type": "markdown",
   "metadata": {},
   "source": [
    "Observing the file **wiki-topcats-reduced.txt**, we can notice the existence of a couple of nodes (107 e 104) for which it exists an edge from 107 to 104 and from 104 to 107. This make us realize that the graph is direct, otherwise, it would be useless the existence of one of the two edges. We thought about this proof: let's suppose that the graph is not direct. Then it can not exists a couple of nodes $a$ and $b$ such that exists an edge $a \\rightarrow b$ and an edge $b \\rightarrow a$. If exists a couple of nodes with this property than the graph is direct. To prove this we opened the file **reduced** and save it in a dataframe."
   ]
  },
  {
   "cell_type": "code",
   "execution_count": null,
   "metadata": {},
   "outputs": [],
   "source": [
    "reduced = pd.read_csv('wiki-topcats-reduced.txt', sep = '\\t', names = ['source', 'destination'])"
   ]
  },
  {
   "cell_type": "code",
   "execution_count": null,
   "metadata": {
    "scrolled": true
   },
   "outputs": [],
   "source": [
    "reduced.head()"
   ]
  },
  {
   "cell_type": "code",
   "execution_count": null,
   "metadata": {},
   "outputs": [],
   "source": [
    "len(reduced)"
   ]
  },
  {
   "cell_type": "markdown",
   "metadata": {},
   "source": [
    "Now we for each couple $(a,b)$ we add an edge $b\\rightarrow a$. In this way for each couple $(a,b)$ exists an edge $b\\rightarrow a$ and $a\\rightarrow b$. So if the are duplicates, then already exist a couple of nodes with this property, so the graph will be direct.\n",
    "To do this we invert the two columns, concatenating the two dataframe, and then we remove the duplicates."
   ]
  },
  {
   "cell_type": "code",
   "execution_count": null,
   "metadata": {},
   "outputs": [],
   "source": [
    "reduced_inv=reduced.reindex(columns=['destination','source'])\n",
    "reduced_inv.columns=['source','destination']"
   ]
  },
  {
   "cell_type": "code",
   "execution_count": null,
   "metadata": {},
   "outputs": [],
   "source": [
    "print('Number of edges of the graph with possible duplicates: 'len(pd.concat([reduced,reduced_inv])))\n",
    "print('Number of edges of the graph without duplicates: 'len(pd.concat([reduced,reduced_inv]).drop_duplicates())"
   ]
  },
  {
   "cell_type": "markdown",
   "metadata": {},
   "source": [
    "We can see that the number of edges decrease. So the graph is direct."
   ]
  },
  {
   "cell_type": "markdown",
   "metadata": {},
   "source": [
    "Now we create our graph, using a dictonary, in which the keys are the nodes and the values the list of nodes to which the node is linked by the edge. We also build the \"inverse_graph\", that we will need later. In the inverse graph the keys are the list of nodes and the values are the nodes from which the edge starts.  "
   ]
  },
  {
   "cell_type": "code",
   "execution_count": 2,
   "metadata": {},
   "outputs": [
    {
     "name": "stderr",
     "output_type": "stream",
     "text": [
      "2645247it [00:09, 293706.34it/s]\n"
     ]
    }
   ],
   "source": [
    "direct_graph=defaultdict(list)\n",
    "inverse_graph=defaultdict(list)\n",
    "with open('wiki-topcats-reduced.txt') as f: \n",
    "    for line in tqdm(f):\n",
    "        l=list(map(int,line.split()))\n",
    "        direct_graph[l[0]].append(l[1])\n",
    "        inverse_graph[l[1]].append(l[0])\n",
    "        "
   ]
  },
  {
   "cell_type": "markdown",
   "metadata": {},
   "source": [
    "To compute the total number number of nodes, we make the union between the  set of the keys of the direct_graph and the set of the keys of the inverse_graph.\n",
    "The number of edge is the sum of the lengths of the lists in values of the direct graph. "
   ]
  },
  {
   "cell_type": "code",
   "execution_count": 3,
   "metadata": {},
   "outputs": [
    {
     "name": "stdout",
     "output_type": "stream",
     "text": [
      "Number of nodes:  461193\n",
      "Number of edges:  2645247\n",
      "Average node degree (IN):  5.735661642739591\n",
      "Average node degree (OUT):  5.735661642739591\n",
      "Density ratio:  1.2436602635647606e-05\n"
     ]
    }
   ],
   "source": [
    "V=len(set(direct_graph.keys()).union(set(inverse_graph.keys())))\n",
    "E=sum(map(len,direct_graph.values()))\n",
    "D=E/(V*(V-1))\n",
    "print('Number of nodes: ',V)\n",
    "print('Number of edges: ',E)\n",
    "print('Average node degree (IN): ',sum(map(len,inverse_graph.values()))/V)\n",
    "print('Average node degree (OUT): ',E/V)\n",
    "print('Density ratio: ', D)"
   ]
  },
  {
   "cell_type": "markdown",
   "metadata": {},
   "source": [
    "From the in-degree and the density ratio we computed, we can say that the graph is not dense!"
   ]
  },
  {
   "cell_type": "code",
   "execution_count": null,
   "metadata": {},
   "outputs": [],
   "source": [
    "Block_ranking=[]\n",
    "categories={}\n",
    "with open('wiki-topcats-categories.txt') as f:\n",
    "    for line in f:\n",
    "        l=line.split()\n",
    "        categories[l[0][9:-1]]=list(map(int,l[1::]))\n",
    "        Block_ranking.append(list(map(int,l[1::])))"
   ]
  },
  {
   "cell_type": "code",
   "execution_count": null,
   "metadata": {},
   "outputs": [],
   "source": [
    "graph=categories.copy()\n",
    "for key in categories:\n",
    "    if len(categories[key])<=3500:\n",
    "        del(graph[key]) "
   ]
  },
  {
   "cell_type": "code",
   "execution_count": null,
   "metadata": {},
   "outputs": [],
   "source": [
    "for key in graph:\n",
    "    for article in graph[key]:\n",
    "        if article not in direct_graph:\n",
    "            direct_graph[article]=[]"
   ]
  },
  {
   "cell_type": "code",
   "execution_count": 29,
   "metadata": {},
   "outputs": [],
   "source": [
    "def BFS(G, v):\n",
    "    visited=set()\n",
    "    search_tree=defaultdict(list)\n",
    "    queue=[]\n",
    "    queue.append(v)\n",
    "    visited.add(v)\n",
    "    while  queue:\n",
    "        u=queue.pop(0)\n",
    "        for w in G[u]:\n",
    "            if not w in visited:\n",
    "                queue.append(w)\n",
    "                visited.add(w)\n",
    "                search_tree[u].append(w)\n",
    "                \n",
    "    return(search_tree)"
   ]
  },
  {
   "cell_type": "code",
   "execution_count": null,
   "metadata": {},
   "outputs": [],
   "source": [
    "graph1 = {'A': ['B', 'C', 'E'],\n",
    "         'B': ['A','D', 'E'],\n",
    "         'C': ['A', 'F', 'G'],\n",
    "         'D': ['B'],\n",
    "         'E': ['A', 'B','D'],\n",
    "         'F': ['C'],\n",
    "         'G': ['C']}\n",
    "\n",
    "t=BFS(graph1,'A')"
   ]
  },
  {
   "cell_type": "code",
   "execution_count": null,
   "metadata": {},
   "outputs": [],
   "source": [
    "t"
   ]
  },
  {
   "cell_type": "code",
   "execution_count": null,
   "metadata": {},
   "outputs": [],
   "source": [
    "def compute_distances(search_tree, root):\n",
    "    res = {}\n",
    "    distance = 0\n",
    "    def compute_distances2(search_tree, root, res, distance = 0):\n",
    "        res[root] = distance\n",
    "        try:\n",
    "            for n in search_tree[root]:\n",
    "                compute_distances2(search_tree, n, res, distance = distance+1)\n",
    "        except KeyError:\n",
    "            pass\n",
    "\n",
    "    compute_distances2(search_tree, root, res, distance)\n",
    "    return res\n",
    "    \n"
   ]
  },
  {
   "cell_type": "code",
   "execution_count": null,
   "metadata": {},
   "outputs": [],
   "source": [
    "d1 = compute_distances(t, 'A')"
   ]
  },
  {
   "cell_type": "code",
   "execution_count": null,
   "metadata": {},
   "outputs": [],
   "source": [
    "def merge_distances(d1, d2):\n",
    "    dres = defaultdict(list)\n",
    "    for k,v in list(d1.items()) + list(d2.items()):\n",
    "        dres[k].append(v)\n",
    "      \n",
    "    return dres"
   ]
  },
  {
   "cell_type": "code",
   "execution_count": null,
   "metadata": {},
   "outputs": [],
   "source": [
    "r=merge_distances(d1,d1)"
   ]
  },
  {
   "cell_type": "code",
   "execution_count": null,
   "metadata": {},
   "outputs": [],
   "source": [
    "r"
   ]
  },
  {
   "cell_type": "code",
   "execution_count": null,
   "metadata": {},
   "outputs": [],
   "source": [
    "def compute_graph_distance(G, nodes):\n",
    "    \"\"\"compute the distances between the nodes in nodes and\n",
    "    all the others nodes in the graph G\"\"\"\n",
    "    if not nodes:\n",
    "        raise RuntimeError(\"The nodes list cannot be empty.\")\n",
    "    dist = compute_distances(BFS(G, nodes[0]), nodes[0])\n",
    "    for n in tqdm(nodes[1:]):\n",
    "        dist1 = compute_distances(BFS(G, n), n)\n",
    "        dist = merge_distances(dist, dist1)\n",
    "    return dist"
   ]
  },
  {
   "cell_type": "code",
   "execution_count": null,
   "metadata": {},
   "outputs": [],
   "source": [
    "#graph['Asteroids_named_for_people']\n",
    "direct_graph[graph['Asteroids_named_for_people'][1]]"
   ]
  },
  {
   "cell_type": "code",
   "execution_count": null,
   "metadata": {},
   "outputs": [],
   "source": [
    "distances = compute_graph_distance(direct_graph, graph['Asteroids_named_for_people'])"
   ]
  },
  {
   "cell_type": "code",
   "execution_count": null,
   "metadata": {},
   "outputs": [],
   "source": []
  }
 ],
 "metadata": {
  "kernelspec": {
   "display_name": "Python 3",
   "language": "python",
   "name": "python3"
  },
  "language_info": {
   "codemirror_mode": {
    "name": "ipython",
    "version": 3
   },
   "file_extension": ".py",
   "mimetype": "text/x-python",
   "name": "python",
   "nbconvert_exporter": "python",
   "pygments_lexer": "ipython3",
   "version": "3.6.5"
  }
 },
 "nbformat": 4,
 "nbformat_minor": 2
}
